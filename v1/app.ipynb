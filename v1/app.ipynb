{
 "cells": [
  {
   "cell_type": "code",
   "execution_count": 47,
   "metadata": {
    "collapsed": true,
    "pycharm": {
     "is_executing": false
    }
   },
   "outputs": [],
   "source": [
    "import pickle\n",
    "from keras.layers import Dense, Embedding, SimpleRNN, GlobalMaxPooling1D, Conv1D, Dropout, LSTM\n",
    "from keras.models import Sequential\n",
    "from keras.preprocessing.sequence import pad_sequences\n",
    "\n",
    "num_words = 10000\n",
    "max_review_len = 100\n",
    "csv_path = '../build/data3.csv'\n",
    "model_save_path = '../build/best_model.h5'\n",
    "out_path = '../output/'\n",
    "\n",
    "def lstm_model():\n",
    "    model = Sequential()\n",
    "    model.add(Embedding(num_words, 64, input_length=max_review_len))\n",
    "    model.add(LSTM(128))\n",
    "    model.add(Dense(1, activation='sigmoid'))\n",
    "    return model\n",
    "    \n",
    "def rec_model():\n",
    "    model = Sequential()\n",
    "    model.add(Embedding(num_words, 2, input_length=max_review_len))\n",
    "    model.add(SimpleRNN(8))\n",
    "    model.add(Dense(1, activation='sigmoid'))\n",
    "    return model\n",
    "\n",
    "def conv_model():\n",
    "    model = Sequential()\n",
    "    model.add(Embedding(num_words, 64, input_length=max_review_len))\n",
    "    model.add(Conv1D(250, 5, padding='valid', activation='relu'))\n",
    "    model.add(GlobalMaxPooling1D())\n",
    "    model.add(Dense(128, activation='relu'))\n",
    "    model.add(Dropout(0.2))\n",
    "    model.add(Dense(1, activation='sigmoid'))\n",
    "    return model\n",
    "\n",
    "class Type:\n",
    "    def __init__(self, type_name, model):\n",
    "        self.model_path = out_path + type_name + '/best_model.h5'\n",
    "        self.tokenizer_path = out_path + type_name + '/tokenizer.pickle'\n",
    "        self.out_path = out_path + type_name + '/output'\n",
    "        self.model = model\n",
    "    \n",
    "lstm = Type(\"lstm\", lstm_model())\n",
    "reccurent = Type(\"rec\", rec_model())\n",
    "conv = Type(\"conv\", conv_model())\n",
    "\n",
    "\n",
    "net_type = lstm\n",
    "model = net_type.model\n",
    "model.load_weights(net_type.model_path)\n",
    "with open(net_type.tokenizer_path, 'rb') as handle:\n",
    "    tokenizer = pickle.load(handle)"
   ]
  },
  {
   "cell_type": "code",
   "execution_count": 48,
   "outputs": [
    {
     "data": {
      "text/plain": "array([[0.9274228]], dtype=float32)"
     },
     "metadata": {},
     "output_type": "execute_result",
     "execution_count": 48
    }
   ],
   "source": [
    "text = \"Out of all the reviews I wrote This one is probably the most serious one I wrote. For starters the community of this game sucks just like every online game You don't wanna talk to them because they're all just jerks who wanna say you suck or you camped or blah blah blah its rare to get a nice compliment out of people in this game.But you don't have to talk to the community either. Unlike most online games this one doesn't have a mic system so you don't have to worry about hearing a twelve year old cry baby raging at you for nothing. Only time you can talk to people in the game is in the beginning before the match starts if your a survivor and at the end after the match is over as both killer and survivor The end chat is the only one the killer can talk to everyone in the match though\"\n",
    "sequence = tokenizer.texts_to_sequences([text])\n",
    "data = pad_sequences(sequence, maxlen=max_review_len)\n",
    "result = model.predict(data)\n",
    "result"
   ],
   "metadata": {
    "collapsed": false,
    "pycharm": {
     "name": "#%%\n",
     "is_executing": false
    }
   }
  },
  {
   "cell_type": "code",
   "execution_count": 49,
   "outputs": [
    {
     "name": "stdout",
     "text": [
      "YES\n"
     ],
     "output_type": "stream"
    }
   ],
   "source": [
    "print(\"NO\" if result < 0.5 else \"YES\")"
   ],
   "metadata": {
    "collapsed": false,
    "pycharm": {
     "name": "#%%\n",
     "is_executing": false
    }
   }
  },
  {
   "cell_type": "code",
   "execution_count": 50,
   "outputs": [
    {
     "data": {
      "text/plain": "[\"Out of all the reviews I wrote This one is probably the most serious one I wrote. For starters the community of this game sucks just like every online game You don't wanna talk to them because they're all just jerks who wanna say you suck or you camped or blah blah blah its rare to get a nice compliment out of people in this game.But you don't have to talk to the community either. Unlike most online games this one doesn't have a mic system so you don't have to worry about hearing a twelve year old cry baby raging at you for nothing. Only time you can talk to people in the game is in the beginning before the match starts if your a survivor and at the end after the match is over as both killer and survivor The end chat is the only one the killer can talk to everyone in the match though\",\n 'My love',\n 'I do not like']"
     },
     "metadata": {},
     "output_type": "execute_result",
     "execution_count": 50
    }
   ],
   "source": [
    "input_path = '../build/input'\n",
    "f = open(input_path)\n",
    "inp = f.read().split('\\n')\n",
    "f.close()\n",
    "inp"
   ],
   "metadata": {
    "collapsed": false,
    "pycharm": {
     "name": "#%%\n",
     "is_executing": false
    }
   }
  },
  {
   "cell_type": "code",
   "execution_count": 51,
   "outputs": [
    {
     "data": {
      "text/plain": "array([[0.9274228],\n       [0.4116594],\n       [0.6238719]], dtype=float32)"
     },
     "metadata": {},
     "output_type": "execute_result",
     "execution_count": 51
    }
   ],
   "source": [
    "sequence = tokenizer.texts_to_sequences(inp)\n",
    "data = pad_sequences(sequence, maxlen=max_review_len)\n",
    "result = model.predict(data)\n",
    "result"
   ],
   "metadata": {
    "collapsed": false,
    "pycharm": {
     "name": "#%%\n",
     "is_executing": false
    }
   }
  },
  {
   "cell_type": "code",
   "execution_count": 52,
   "outputs": [
    {
     "data": {
      "text/plain": "'[0.9274228]\\n[0.4116594]\\n[0.6238719]'"
     },
     "metadata": {},
     "output_type": "execute_result",
     "execution_count": 52
    }
   ],
   "source": [
    "#result = [1,0,1]\n",
    "output_path = net_type.out_path\n",
    "f = open(output_path, 'w')\n",
    "s = \"\\n\".join(map(str, result))\n",
    "f.write(s)\n",
    "f.close()\n",
    "s"
   ],
   "metadata": {
    "collapsed": false,
    "pycharm": {
     "name": "#%%\n",
     "is_executing": false
    }
   }
  },
  {
   "cell_type": "code",
   "execution_count": 52,
   "outputs": [],
   "source": [],
   "metadata": {
    "collapsed": false,
    "pycharm": {
     "name": "#%%\n",
     "is_executing": false
    }
   }
  }
 ],
 "metadata": {
  "kernelspec": {
   "display_name": "Python 3",
   "language": "python",
   "name": "python3"
  },
  "language_info": {
   "codemirror_mode": {
    "name": "ipython",
    "version": 2
   },
   "file_extension": ".py",
   "mimetype": "text/x-python",
   "name": "python",
   "nbconvert_exporter": "python",
   "pygments_lexer": "ipython2",
   "version": "2.7.6"
  },
  "pycharm": {
   "stem_cell": {
    "cell_type": "raw",
    "source": [],
    "metadata": {
     "collapsed": false
    }
   }
  }
 },
 "nbformat": 4,
 "nbformat_minor": 0
}