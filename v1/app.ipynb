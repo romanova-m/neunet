{
 "cells": [
  {
   "cell_type": "code",
   "execution_count": 23,
   "metadata": {
    "collapsed": true,
    "pycharm": {
     "is_executing": false
    }
   },
   "outputs": [],
   "source": [
    "import pickle\n",
    "from keras.layers import Dense, Embedding, SimpleRNN\n",
    "from keras.models import Sequential\n",
    "from keras.preprocessing.sequence import pad_sequences\n",
    "\n",
    "num_words = 10000\n",
    "max_review_len = 100\n",
    "csv_path = '../build/data3.csv'\n",
    "model_save_path = '../build/best_model.h5'\n",
    "\n",
    "# Load best model\n",
    "model = Sequential()\n",
    "model.add(Embedding(num_words, 2, input_length=max_review_len))\n",
    "model.add(SimpleRNN(8))\n",
    "model.add(Dense(1, activation='sigmoid'))\n",
    "\n",
    "model.load_weights(model_save_path)\n",
    "with open('../build/tokenizer.pickle', 'rb') as handle:\n",
    "    tokenizer = pickle.load(handle)"
   ]
  },
  {
   "cell_type": "code",
   "execution_count": 25,
   "outputs": [
    {
     "data": {
      "text/plain": "[[55,\n  9,\n  34,\n  1,\n  461,\n  6,\n  2311,\n  10,\n  49,\n  8,\n  324,\n  1,\n  112,\n  1142,\n  49,\n  6,\n  2311,\n  13,\n  4669,\n  1,\n  127,\n  9,\n  10,\n  4,\n  486,\n  29,\n  33,\n  115,\n  43,\n  4,\n  7,\n  71,\n  694,\n  875,\n  3,\n  90,\n  69,\n  546,\n  34,\n  29,\n  4081,\n  97,\n  694,\n  142,\n  7,\n  657,\n  36,\n  7,\n  4358,\n  36,\n  2717,\n  2717,\n  2717,\n  51,\n  1424,\n  3,\n  25,\n  5,\n  161,\n  55,\n  9,\n  54,\n  12,\n  10,\n  4,\n  16,\n  7,\n  71,\n  18,\n  3,\n  875,\n  3,\n  1,\n  127,\n  345,\n  1550,\n  112,\n  43,\n  73,\n  10,\n  49,\n  265,\n  18,\n  5,\n  1905,\n  211,\n  23,\n  7,\n  71,\n  18,\n  3,\n  1678,\n  70,\n  2477,\n  5,\n  7173,\n  330,\n  318,\n  1649,\n  1892,\n  3269,\n  41,\n  7,\n  13,\n  189,\n  66,\n  47,\n  7,\n  30,\n  875,\n  3,\n  54,\n  12,\n  1,\n  4,\n  8,\n  12,\n  1,\n  1153,\n  193,\n  1,\n  448,\n  1036,\n  22,\n  28,\n  5,\n  1020,\n  2,\n  41,\n  1,\n  259,\n  91,\n  1,\n  448,\n  8,\n  105,\n  31,\n  463,\n  559,\n  2,\n  1020,\n  1,\n  259,\n  643,\n  8,\n  1,\n  66,\n  49,\n  1,\n  559,\n  30,\n  875,\n  3,\n  226,\n  12,\n  1,\n  448,\n  212]]"
     },
     "metadata": {},
     "output_type": "execute_result",
     "execution_count": 25
    }
   ],
   "source": [
    "text = \"Out of all the reviews I wrote This one is probably the most serious one I wrote. For starters the community of this game sucks just like every online game You don't wanna talk to them because they're all just jerks who wanna say you suck or you camped or blah blah blah its rare to get a nice compliment out of people in this game.But you don't have to talk to the community either. Unlike most online games this one doesn't have a mic system so you don't have to worry about hearing a twelve year old cry baby raging at you for nothing. Only time you can talk to people in the game is in the beginning before the match starts if your a survivor and at the end after the match is over as both killer and survivor The end chat is the only one the killer can talk to everyone in the match though\"\n",
    "sequence = tokenizer.texts_to_sequences([text])\n",
    "sequence"
   ],
   "metadata": {
    "collapsed": false,
    "pycharm": {
     "name": "#%%\n",
     "is_executing": false
    }
   }
  },
  {
   "cell_type": "code",
   "execution_count": 26,
   "outputs": [
    {
     "data": {
      "text/plain": "array([[ 161,   55,    9,   54,   12,   10,    4,   16,    7,   71,   18,\n           3,  875,    3,    1,  127,  345, 1550,  112,   43,   73,   10,\n          49,  265,   18,    5, 1905,  211,   23,    7,   71,   18,    3,\n        1678,   70, 2477,    5, 7173,  330,  318, 1649, 1892, 3269,   41,\n           7,   13,  189,   66,   47,    7,   30,  875,    3,   54,   12,\n           1,    4,    8,   12,    1, 1153,  193,    1,  448, 1036,   22,\n          28,    5, 1020,    2,   41,    1,  259,   91,    1,  448,    8,\n         105,   31,  463,  559,    2, 1020,    1,  259,  643,    8,    1,\n          66,   49,    1,  559,   30,  875,    3,  226,   12,    1,  448,\n         212]])"
     },
     "metadata": {},
     "output_type": "execute_result",
     "execution_count": 26
    }
   ],
   "source": [
    "data = pad_sequences(sequence, maxlen=max_review_len)\n",
    "data"
   ],
   "metadata": {
    "collapsed": false,
    "pycharm": {
     "name": "#%%\n",
     "is_executing": false
    }
   }
  },
  {
   "cell_type": "code",
   "execution_count": 27,
   "outputs": [
    {
     "data": {
      "text/plain": "array([[0.9143299]], dtype=float32)"
     },
     "metadata": {},
     "output_type": "execute_result",
     "execution_count": 27
    }
   ],
   "source": [
    "result = model.predict(data)\n",
    "result"
   ],
   "metadata": {
    "collapsed": false,
    "pycharm": {
     "name": "#%%\n",
     "is_executing": false
    }
   }
  },
  {
   "cell_type": "code",
   "execution_count": 28,
   "outputs": [
    {
     "name": "stdout",
     "text": [
      "YES\n"
     ],
     "output_type": "stream"
    }
   ],
   "source": [
    "print(\"NO\" if result < 0.5 else \"YES\")"
   ],
   "metadata": {
    "collapsed": false,
    "pycharm": {
     "name": "#%%\n",
     "is_executing": false
    }
   }
  },
  {
   "cell_type": "code",
   "execution_count": 29,
   "outputs": [
    {
     "data": {
      "text/plain": "[\"Out of all the reviews I wrote This one is probably the most serious one I wrote. For starters the community of this game sucks just like every online game You don't wanna talk to them because they're all just jerks who wanna say you suck or you camped or blah blah blah its rare to get a nice compliment out of people in this game.But you don't have to talk to the community either. Unlike most online games this one doesn't have a mic system so you don't have to worry about hearing a twelve year old cry baby raging at you for nothing. Only time you can talk to people in the game is in the beginning before the match starts if your a survivor and at the end after the match is over as both killer and survivor The end chat is the only one the killer can talk to everyone in the match though\",\n 'My love',\n 'I do not like']"
     },
     "metadata": {},
     "output_type": "execute_result",
     "execution_count": 29
    }
   ],
   "source": [
    "input_path = '../build/input'\n",
    "f = open(input_path)\n",
    "inp = f.read().split('\\n')\n",
    "f.close()\n",
    "inp"
   ],
   "metadata": {
    "collapsed": false,
    "pycharm": {
     "name": "#%%\n",
     "is_executing": false
    }
   }
  },
  {
   "cell_type": "code",
   "execution_count": 30,
   "outputs": [
    {
     "data": {
      "text/plain": "[[55,\n  9,\n  34,\n  1,\n  461,\n  6,\n  2311,\n  10,\n  49,\n  8,\n  324,\n  1,\n  112,\n  1142,\n  49,\n  6,\n  2311,\n  13,\n  4669,\n  1,\n  127,\n  9,\n  10,\n  4,\n  486,\n  29,\n  33,\n  115,\n  43,\n  4,\n  7,\n  71,\n  694,\n  875,\n  3,\n  90,\n  69,\n  546,\n  34,\n  29,\n  4081,\n  97,\n  694,\n  142,\n  7,\n  657,\n  36,\n  7,\n  4358,\n  36,\n  2717,\n  2717,\n  2717,\n  51,\n  1424,\n  3,\n  25,\n  5,\n  161,\n  55,\n  9,\n  54,\n  12,\n  10,\n  4,\n  16,\n  7,\n  71,\n  18,\n  3,\n  875,\n  3,\n  1,\n  127,\n  345,\n  1550,\n  112,\n  43,\n  73,\n  10,\n  49,\n  265,\n  18,\n  5,\n  1905,\n  211,\n  23,\n  7,\n  71,\n  18,\n  3,\n  1678,\n  70,\n  2477,\n  5,\n  7173,\n  330,\n  318,\n  1649,\n  1892,\n  3269,\n  41,\n  7,\n  13,\n  189,\n  66,\n  47,\n  7,\n  30,\n  875,\n  3,\n  54,\n  12,\n  1,\n  4,\n  8,\n  12,\n  1,\n  1153,\n  193,\n  1,\n  448,\n  1036,\n  22,\n  28,\n  5,\n  1020,\n  2,\n  41,\n  1,\n  259,\n  91,\n  1,\n  448,\n  8,\n  105,\n  31,\n  463,\n  559,\n  2,\n  1020,\n  1,\n  259,\n  643,\n  8,\n  1,\n  66,\n  49,\n  1,\n  559,\n  30,\n  875,\n  3,\n  226,\n  12,\n  1,\n  448,\n  212],\n [21, 118],\n [6, 42, 20, 33]]"
     },
     "metadata": {},
     "output_type": "execute_result",
     "execution_count": 30
    }
   ],
   "source": [
    "sequence = tokenizer.texts_to_sequences(inp)\n",
    "data = pad_sequences(sequence, maxlen=max_review_len)\n",
    "result = model.predict(data)\n",
    "result"
   ],
   "metadata": {
    "collapsed": false,
    "pycharm": {
     "name": "#%%\n",
     "is_executing": false
    }
   }
  },
  {
   "cell_type": "code",
   "execution_count": 32,
   "outputs": [
    {
     "data": {
      "text/plain": "'[0.9143299]\\n[0.4143003]\\n[0.53699404]'"
     },
     "metadata": {},
     "output_type": "execute_result",
     "execution_count": 32
    }
   ],
   "source": [
    "#result = [1,0,1]\n",
    "output_path = '../build/output'\n",
    "f = open(output_path, 'w')\n",
    "s = \"\\n\".join(map(str, result))\n",
    "f.write(s)\n",
    "f.close()\n",
    "s"
   ],
   "metadata": {
    "collapsed": false,
    "pycharm": {
     "name": "#%%\n",
     "is_executing": false
    }
   }
  },
  {
   "cell_type": "code",
   "execution_count": 32,
   "outputs": [],
   "source": [],
   "metadata": {
    "collapsed": false,
    "pycharm": {
     "name": "#%%\n",
     "is_executing": false
    }
   }
  }
 ],
 "metadata": {
  "kernelspec": {
   "display_name": "Python 3",
   "language": "python",
   "name": "python3"
  },
  "language_info": {
   "codemirror_mode": {
    "name": "ipython",
    "version": 2
   },
   "file_extension": ".py",
   "mimetype": "text/x-python",
   "name": "python",
   "nbconvert_exporter": "python",
   "pygments_lexer": "ipython2",
   "version": "2.7.6"
  },
  "pycharm": {
   "stem_cell": {
    "cell_type": "raw",
    "source": [],
    "metadata": {
     "collapsed": false
    }
   }
  }
 },
 "nbformat": 4,
 "nbformat_minor": 0
}