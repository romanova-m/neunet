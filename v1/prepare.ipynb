{
 "cells": [
  {
   "cell_type": "code",
   "execution_count": 1,
   "metadata": {
    "collapsed": true,
    "pycharm": {
     "is_executing": false
    }
   },
   "outputs": [
    {
     "data": {
      "text/plain": "0    373505\n1     32772\nName: helpful, dtype: int64"
     },
     "metadata": {},
     "output_type": "execute_result",
     "execution_count": 1
    }
   ],
   "source": [
    "import pandas as pd\n",
    "filename = \"../data.csv\"\n",
    "#dara for tokenizer with eng comments\n",
    "data = pd.read_csv(filename)\n",
    "\n",
    "\n",
    "def is_english_letter(l):\n",
    "    return 'a' <= str(l) <= 'z' or 'A' <= str(l) <= 'Z'\n",
    "\n",
    "\n",
    "def is_blank(l):\n",
    "    return l in [' ', '\\n', '\\t']\n",
    "\n",
    "\n",
    "def is_english(text):\n",
    "    if not isinstance(text, str):\n",
    "        return False\n",
    "    english = 0\n",
    "    letters = 0\n",
    "    for i in range (0, len(text)):\n",
    "        if is_blank(text[i]): continue\n",
    "        letters += 1\n",
    "        if is_english_letter(text[i]):\n",
    "            english += 1\n",
    "    return english/letters > 0.8\n",
    "\n",
    "\n",
    "\n",
    "\n",
    "# drop where !is_english\n",
    "data = data[data['review'].map(is_english) == True]\n",
    "\n",
    "# prepare target\n",
    "data['helpful'] = data['helpful'] >= 1\n",
    "data['helpful'] = data['helpful'].astype(int)\n",
    "data['helpful'].value_counts()"
   ]
  },
  {
   "cell_type": "markdown",
   "source": [],
   "metadata": {
    "collapsed": false,
    "pycharm": {
     "name": "#%% md\n"
    }
   }
  },
  {
   "cell_type": "code",
   "execution_count": 2,
   "outputs": [
    {
     "data": {
      "text/plain": "65544"
     },
     "metadata": {},
     "output_type": "execute_result",
     "execution_count": 2
    }
   ],
   "source": [
    "save_num = data['helpful'].value_counts()[1] * 2\n",
    "save_num"
   ],
   "metadata": {
    "collapsed": false,
    "pycharm": {
     "name": "#%%\n",
     "is_executing": false
    }
   }
  },
  {
   "cell_type": "code",
   "execution_count": 3,
   "outputs": [
    {
     "data": {
      "text/plain": "        Unnamed: 0  helpful                                             review\n105959      105959        0                           good game very toxic !!!\n105958      105958        0  Product received for free. the most best game....\n105957      105957        0                                   It's pretty fun.\n105956      105956        0  Honestly a game that keeps on giving. So much ...\n105955      105955        0  A really great game. It gave me and lots of my...\n...            ...      ...                                                ...\n249759      249759        1           Hit so high even it's still early access\n249767      249767        1  EDIT PUBG team has really let me and many othe...\n249768      249768        1  We shot each other in school 10/10 just like i...\n249711      249711        1  good game. very fun to play and addictive.The ...\n434890      434890        1  Don't listen to people who claim it's the game...\n\n[65544 rows x 3 columns]",
      "text/html": "<div>\n<style scoped>\n    .dataframe tbody tr th:only-of-type {\n        vertical-align: middle;\n    }\n\n    .dataframe tbody tr th {\n        vertical-align: top;\n    }\n\n    .dataframe thead th {\n        text-align: right;\n    }\n</style>\n<table border=\"1\" class=\"dataframe\">\n  <thead>\n    <tr style=\"text-align: right;\">\n      <th></th>\n      <th>Unnamed: 0</th>\n      <th>helpful</th>\n      <th>review</th>\n    </tr>\n  </thead>\n  <tbody>\n    <tr>\n      <th>105959</th>\n      <td>105959</td>\n      <td>0</td>\n      <td>good game very toxic !!!</td>\n    </tr>\n    <tr>\n      <th>105958</th>\n      <td>105958</td>\n      <td>0</td>\n      <td>Product received for free. the most best game....</td>\n    </tr>\n    <tr>\n      <th>105957</th>\n      <td>105957</td>\n      <td>0</td>\n      <td>It's pretty fun.</td>\n    </tr>\n    <tr>\n      <th>105956</th>\n      <td>105956</td>\n      <td>0</td>\n      <td>Honestly a game that keeps on giving. So much ...</td>\n    </tr>\n    <tr>\n      <th>105955</th>\n      <td>105955</td>\n      <td>0</td>\n      <td>A really great game. It gave me and lots of my...</td>\n    </tr>\n    <tr>\n      <th>...</th>\n      <td>...</td>\n      <td>...</td>\n      <td>...</td>\n    </tr>\n    <tr>\n      <th>249759</th>\n      <td>249759</td>\n      <td>1</td>\n      <td>Hit so high even it's still early access</td>\n    </tr>\n    <tr>\n      <th>249767</th>\n      <td>249767</td>\n      <td>1</td>\n      <td>EDIT PUBG team has really let me and many othe...</td>\n    </tr>\n    <tr>\n      <th>249768</th>\n      <td>249768</td>\n      <td>1</td>\n      <td>We shot each other in school 10/10 just like i...</td>\n    </tr>\n    <tr>\n      <th>249711</th>\n      <td>249711</td>\n      <td>1</td>\n      <td>good game. very fun to play and addictive.The ...</td>\n    </tr>\n    <tr>\n      <th>434890</th>\n      <td>434890</td>\n      <td>1</td>\n      <td>Don't listen to people who claim it's the game...</td>\n    </tr>\n  </tbody>\n</table>\n<p>65544 rows × 3 columns</p>\n</div>"
     },
     "metadata": {},
     "output_type": "execute_result",
     "execution_count": 3
    }
   ],
   "source": [
    "# sort by target\n",
    "data = data.sort_values(by='helpful')\n",
    "data = data.tail(save_num)\n",
    "data"
   ],
   "metadata": {
    "collapsed": false,
    "pycharm": {
     "name": "#%%\n",
     "is_executing": false
    }
   }
  },
  {
   "cell_type": "code",
   "execution_count": 4,
   "outputs": [
    {
     "data": {
      "text/plain": "       Unnamed: 0  helpful                                             review\n0          108693        0                                   Interesting game\n1          378652        1                                      this game god\n2          146931        0  Definately the best in their series of GTA's. ...\n3          146764        0  Probably one of the best games of the decade. ...\n4          423258        0       It's kinda like watching your sister shower.\n...           ...      ...                                                ...\n65539      172456        1                                            its gud\n65540      252973        1  Product received for free. 11/10 A really inte...\n65541      126403        0      Anddd the modding community is dead take two.\n65542      259153        1                                      Battle Royale\n65543      128971        0  Had it for the ps3 ok but not the best. Got it...\n\n[65544 rows x 3 columns]",
      "text/html": "<div>\n<style scoped>\n    .dataframe tbody tr th:only-of-type {\n        vertical-align: middle;\n    }\n\n    .dataframe tbody tr th {\n        vertical-align: top;\n    }\n\n    .dataframe thead th {\n        text-align: right;\n    }\n</style>\n<table border=\"1\" class=\"dataframe\">\n  <thead>\n    <tr style=\"text-align: right;\">\n      <th></th>\n      <th>Unnamed: 0</th>\n      <th>helpful</th>\n      <th>review</th>\n    </tr>\n  </thead>\n  <tbody>\n    <tr>\n      <th>0</th>\n      <td>108693</td>\n      <td>0</td>\n      <td>Interesting game</td>\n    </tr>\n    <tr>\n      <th>1</th>\n      <td>378652</td>\n      <td>1</td>\n      <td>this game god</td>\n    </tr>\n    <tr>\n      <th>2</th>\n      <td>146931</td>\n      <td>0</td>\n      <td>Definately the best in their series of GTA's. ...</td>\n    </tr>\n    <tr>\n      <th>3</th>\n      <td>146764</td>\n      <td>0</td>\n      <td>Probably one of the best games of the decade. ...</td>\n    </tr>\n    <tr>\n      <th>4</th>\n      <td>423258</td>\n      <td>0</td>\n      <td>It's kinda like watching your sister shower.</td>\n    </tr>\n    <tr>\n      <th>...</th>\n      <td>...</td>\n      <td>...</td>\n      <td>...</td>\n    </tr>\n    <tr>\n      <th>65539</th>\n      <td>172456</td>\n      <td>1</td>\n      <td>its gud</td>\n    </tr>\n    <tr>\n      <th>65540</th>\n      <td>252973</td>\n      <td>1</td>\n      <td>Product received for free. 11/10 A really inte...</td>\n    </tr>\n    <tr>\n      <th>65541</th>\n      <td>126403</td>\n      <td>0</td>\n      <td>Anddd the modding community is dead take two.</td>\n    </tr>\n    <tr>\n      <th>65542</th>\n      <td>259153</td>\n      <td>1</td>\n      <td>Battle Royale</td>\n    </tr>\n    <tr>\n      <th>65543</th>\n      <td>128971</td>\n      <td>0</td>\n      <td>Had it for the ps3 ok but not the best. Got it...</td>\n    </tr>\n  </tbody>\n</table>\n<p>65544 rows × 3 columns</p>\n</div>"
     },
     "metadata": {},
     "output_type": "execute_result",
     "execution_count": 4
    }
   ],
   "source": [
    "# shuffle\n",
    "data = data.sample(frac=1).reset_index(drop=True)\n",
    "data"
   ],
   "metadata": {
    "collapsed": false,
    "pycharm": {
     "name": "#%%\n",
     "is_executing": false
    }
   }
  },
  {
   "cell_type": "code",
   "execution_count": 5,
   "outputs": [],
   "source": [
    "data.to_csv(\"data3.csv\")\n"
   ],
   "metadata": {
    "collapsed": false,
    "pycharm": {
     "name": "#%%\n",
     "is_executing": false
    }
   }
  }
 ],
 "metadata": {
  "kernelspec": {
   "display_name": "Python 3",
   "language": "python",
   "name": "python3"
  },
  "language_info": {
   "codemirror_mode": {
    "name": "ipython",
    "version": 2
   },
   "file_extension": ".py",
   "mimetype": "text/x-python",
   "name": "python",
   "nbconvert_exporter": "python",
   "pygments_lexer": "ipython2",
   "version": "2.7.6"
  },
  "pycharm": {
   "stem_cell": {
    "cell_type": "raw",
    "source": [],
    "metadata": {
     "collapsed": false
    }
   }
  }
 },
 "nbformat": 4,
 "nbformat_minor": 0
}